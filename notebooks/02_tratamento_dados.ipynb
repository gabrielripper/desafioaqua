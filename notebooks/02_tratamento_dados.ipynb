{
 "cells": [
  {
   "cell_type": "markdown",
   "id": "cc13ed8a",
   "metadata": {},
   "source": [
    "## 1. Importação das Bibliotecas e Carregamento dos Dados"
   ]
  },
  {
   "cell_type": "code",
   "execution_count": 55,
   "id": "42c2dc7a",
   "metadata": {},
   "outputs": [],
   "source": [
    "import pandas as pd\n",
    "import numpy as np\n",
    "import matplotlib.pyplot as plt\n",
    "import seaborn as sns\n",
    "from datetime import datetime\n",
    "from sklearn.impute import KNNImputer\n",
    "from sklearn.preprocessing import LabelEncoder, MinMaxScaler\n",
    "from sklearn.metrics.pairwise import euclidean_distances\n",
    "import warnings\n",
    "warnings.filterwarnings('ignore')\n",
    "\n",
    "plt.style.use('default')\n",
    "sns.set_palette('husl')\n",
    "plt.rcParams['figure.figsize'] = (12, 8)"
   ]
  },
  {
   "cell_type": "code",
   "execution_count": 56,
   "id": "e905851b",
   "metadata": {},
   "outputs": [],
   "source": [
    "consumo_df = pd.read_csv('../data/consumo.csv')\n",
    "clima_df = pd.read_csv('../data/clima.csv')\n",
    "clientes_df = pd.read_csv('../data/clientes.csv')\n",
    "\n",
    "consumo_df['date'] = pd.to_datetime(consumo_df['date'])\n",
    "clima_df['date'] = pd.to_datetime(clima_df['date'])"
   ]
  },
  {
   "cell_type": "markdown",
   "id": "a37692ad",
   "metadata": {},
   "source": [
    "## 2. Análise Detalhada"
   ]
  },
  {
   "cell_type": "code",
   "execution_count": 57,
   "id": "1dfd50b8",
   "metadata": {},
   "outputs": [
    {
     "name": "stdout",
     "output_type": "stream",
     "text": [
      "registros faltantes: 45\n",
      "Distribuição por região:\n",
      "region\n",
      "Leste     13\n",
      "Norte     11\n",
      "Centro     8\n",
      "Oeste      7\n",
      "Sul        6\n",
      "Name: count, dtype: int64\n",
      "\n",
      "mes\n",
      "1     6\n",
      "2     6\n",
      "3    11\n",
      "4     6\n",
      "5     7\n",
      "6     9\n",
      "Name: count, dtype: int64\n",
      "\n"
     ]
    }
   ],
   "source": [
    "# Análise dos valores faltantes de temperatura\n",
    "# verificando se os registros faltantes tem relação com região\n",
    "temp_faltante = clima_df[clima_df['temperature'].isnull()].copy()\n",
    "print(f\"registros faltantes: {len(temp_faltante)}\")\n",
    "print(\"Distribuição por região:\")\n",
    "print(temp_faltante['region'].value_counts())\n",
    "print(\"\")\n",
    "\n",
    "# verificando se os registros faltantes tem relação com mês\n",
    "temp_faltante['mes'] = temp_faltante['date'].dt.month\n",
    "print(temp_faltante['mes'].value_counts().sort_index())\n",
    "print(\"\")"
   ]
  },
  {
   "cell_type": "code",
   "execution_count": 58,
   "id": "294f3fc2",
   "metadata": {},
   "outputs": [
    {
     "name": "stdout",
     "output_type": "stream",
     "text": [
      "Clientes com região desconhecida: ['C0015', 'C0050', 'C0058', 'C0077', 'C0092']\n",
      "Relevância dos clientes: 900\n",
      "count    900.000000\n",
      "mean      14.608800\n",
      "std        3.126769\n",
      "min        6.290000\n",
      "25%       12.422500\n",
      "50%       14.535000\n",
      "75%       16.872500\n",
      "max       22.860000\n",
      "Name: consumption_kwh, dtype: float64\n",
      "count    17100.000000\n",
      "mean        14.822564\n",
      "std          3.757646\n",
      "min          2.640000\n",
      "25%         12.050000\n",
      "50%         14.910000\n",
      "75%         17.670000\n",
      "max         27.920000\n",
      "Name: consumption_kwh, dtype: float64\n"
     ]
    }
   ],
   "source": [
    "# Análise dos clientes com região desconhecida\n",
    "clientes_desconhecidos = clientes_df[clientes_df['region'] == 'Desconhecida']['client_id'].tolist()\n",
    "print(f\"Clientes com região desconhecida: {clientes_desconhecidos}\")\n",
    "\n",
    "# Analisando padrão de consumo desses clientes\n",
    "consumo_desconhecidos = consumo_df[consumo_df['client_id'].isin(clientes_desconhecidos)]\n",
    "print(f\"Relevância dos clientes: {len(consumo_desconhecidos)}\")\n",
    "print(consumo_desconhecidos['consumption_kwh'].describe())\n",
    "\n",
    "# Comparando com clientes de regiões conhecidas\n",
    "consumo_conhecidos = consumo_df[~consumo_df['client_id'].isin(clientes_desconhecidos)]\n",
    "print(consumo_conhecidos['consumption_kwh'].describe())"
   ]
  },
  {
   "cell_type": "markdown",
   "id": "a3567602",
   "metadata": {},
   "source": [
    "## 3. Tratamento dos Valores Faltantes de Temperatura"
   ]
  },
  {
   "cell_type": "code",
   "execution_count": 59,
   "id": "df956f09",
   "metadata": {},
   "outputs": [
    {
     "name": "stdout",
     "output_type": "stream",
     "text": [
      "0\n"
     ]
    }
   ],
   "source": [
    "clima_tratado = clima_df.copy()\n",
    "\n",
    "# Estratégia 1: Imputação por média regional e temporal\n",
    "# Para cada valor faltante, usarei a média da mesma região em datas próximas\n",
    "def imputar_temperatura_regional(df):\n",
    "    df_temp = df.copy()\n",
    "    \n",
    "    for idx in df_temp[df_temp['temperature'].isnull()].index:\n",
    "        regiao = df_temp.loc[idx, 'region']\n",
    "        data = df_temp.loc[idx, 'date']\n",
    "        \n",
    "        # Buscar valores de temperatura da mesma região em um período de 7 dias\n",
    "        inicio = data - pd.Timedelta(days=7)\n",
    "        fim = data + pd.Timedelta(days=7)\n",
    "        \n",
    "        valores_proximos = df_temp[\n",
    "            (df_temp['region'] == regiao) & \n",
    "            (df_temp['date'] >= inicio) & \n",
    "            (df_temp['date'] <= fim) & \n",
    "            (df_temp['temperature'].notna())\n",
    "        ]['temperature']\n",
    "        \n",
    "        if len(valores_proximos) > 0:\n",
    "            df_temp.loc[idx, 'temperature'] = valores_proximos.mean()\n",
    "        else:\n",
    "            # Se não houver valores próximos, usar a média geral da região\n",
    "            media_regiao = df_temp[df_temp['region'] == regiao]['temperature'].mean()\n",
    "            df_temp.loc[idx, 'temperature'] = media_regiao\n",
    "    \n",
    "    return df_temp\n",
    "\n",
    "clima_imputado_1 = imputar_temperatura_regional(clima_tratado)\n",
    "print(f\"{clima_imputado_1['temperature'].isnull().sum()}\")"
   ]
  },
  {
   "cell_type": "code",
   "execution_count": 60,
   "id": "240c7245",
   "metadata": {},
   "outputs": [
    {
     "name": "stdout",
     "output_type": "stream",
     "text": [
      "0\n",
      "Comparação:\n",
      "Temperatura média original: 25.10°C\n",
      "Temperatura média após imputação regional: 25.10°C\n",
      "Temperatura média após KNN: 25.10°C\n"
     ]
    }
   ],
   "source": [
    "# Estratégia 2: Imputação usando KNN considerando região, data e umidade\n",
    "clima_knn = clima_df.copy()\n",
    "\n",
    "# Codificando região\n",
    "le_region = LabelEncoder()\n",
    "clima_knn['region_encoded'] = le_region.fit_transform(clima_knn['region'])\n",
    "\n",
    "# Criando features temporais\n",
    "clima_knn['dia_do_ano'] = clima_knn['date'].dt.dayofyear\n",
    "clima_knn['mes'] = clima_knn['date'].dt.month\n",
    "\n",
    "# Selecionando features para KNN\n",
    "features_knn = ['region_encoded', 'dia_do_ano', 'mes', 'humidity', 'temperature']\n",
    "dados_knn = clima_knn[features_knn].copy()\n",
    "\n",
    "# Aplicando KNN Imputer\n",
    "knn_imputer = KNNImputer(n_neighbors=5)\n",
    "dados_imputados = knn_imputer.fit_transform(dados_knn)\n",
    "\n",
    "# Criando dataframe com dados imputados\n",
    "clima_imputado_2 = clima_df.copy()\n",
    "clima_imputado_2['temperature'] = dados_imputados[:, -1]\n",
    "\n",
    "print(f\"{clima_imputado_2['temperature'].isnull().sum()}\")\n",
    "\n",
    "# Comparando as duas estratégias\n",
    "print(\"Comparação:\")\n",
    "print(f\"Temperatura média original: {clima_df['temperature'].mean():.2f}°C\")\n",
    "print(f\"Temperatura média após imputação regional: {clima_imputado_1['temperature'].mean():.2f}°C\")\n",
    "print(f\"Temperatura média após KNN: {clima_imputado_2['temperature'].mean():.2f}°C\")\n",
    "\n",
    "clima_final = clima_imputado_1.copy()"
   ]
  },
  {
   "cell_type": "markdown",
   "id": "dc92cbab",
   "metadata": {},
   "source": [
    "## 4. Tratamento dos Clientes com Região Desconhecida"
   ]
  },
  {
   "cell_type": "code",
   "execution_count": 61,
   "id": "f663611b",
   "metadata": {},
   "outputs": [
    {
     "name": "stdout",
     "output_type": "stream",
     "text": [
      "         mean   std   min    max  median\n",
      "region                                  \n",
      "Centro  14.95  2.24  8.98  20.66   14.95\n",
      "Leste   14.97  2.25  8.99  20.83   14.99\n",
      "Norte   14.25  2.26  8.08  20.13   14.25\n",
      "Oeste   15.83  2.26  9.82  22.32   15.77\n",
      "Sul     14.69  2.26  8.67  20.84   14.70\n"
     ]
    }
   ],
   "source": [
    "# Estratégia: Imputar região baseada em similaridade de padrão de consumo\n",
    "\n",
    "# Calculando perfil de consumo por cliente\n",
    "perfil_consumo = consumo_df.groupby('client_id')['consumption_kwh'].agg([\n",
    "    'mean', 'std', 'min', 'max', 'median'\n",
    "]).reset_index()\n",
    "\n",
    "# Adicionando região aos perfis\n",
    "perfil_consumo = perfil_consumo.merge(clientes_df, on='client_id', how='left')\n",
    "\n",
    "# Separando clientes conhecidos e desconhecidos\n",
    "perfil_conhecidos = perfil_consumo[perfil_consumo['region'] != 'Desconhecida'].copy()\n",
    "perfil_desconhecidos = perfil_consumo[perfil_consumo['region'] == 'Desconhecida'].copy()\n",
    "\n",
    "# Calculando perfil médio por região conhecida\n",
    "perfil_por_regiao = perfil_conhecidos.groupby('region')[['mean', 'std', 'min', 'max', 'median']].mean()\n",
    "print(perfil_por_regiao.round(2))"
   ]
  },
  {
   "cell_type": "code",
   "execution_count": 62,
   "id": "c0283f9b",
   "metadata": {},
   "outputs": [
    {
     "name": "stdout",
     "output_type": "stream",
     "text": [
      "Cliente C0015: Oeste\n",
      "Cliente C0050: Centro\n",
      "Cliente C0058: Norte\n",
      "Cliente C0077: Oeste\n",
      "Cliente C0092: Norte\n"
     ]
    }
   ],
   "source": [
    "def encontrar_regiao_similar(cliente_perfil, perfis_regionais):\n",
    "\n",
    "    features = ['mean', 'std', 'min', 'max', 'median']\n",
    "    \n",
    "    # Preparando os dados para normalização\n",
    "    dados_completos = pd.concat([\n",
    "        perfis_regionais[features],\n",
    "        cliente_perfil[features].to_frame().T\n",
    "    ], ignore_index=True)\n",
    "    \n",
    "    # Normalizando os dados usando MinMaxScaler\n",
    "    scaler = MinMaxScaler()\n",
    "    dados_normalizados = scaler.fit_transform(dados_completos)\n",
    "    \n",
    "    # Separando dados normalizados\n",
    "    perfis_norm = dados_normalizados[:-1]\n",
    "    cliente_norm = dados_normalizados[-1:]\n",
    "    \n",
    "    # Calculando distâncias\n",
    "    distancias_array = euclidean_distances(cliente_norm, perfis_norm)[0]\n",
    "    \n",
    "    # Criando dicionário de distâncias por região\n",
    "    distancias = dict(zip(perfis_regionais.index, distancias_array))\n",
    "    \n",
    "    # Retornando região com menor distância\n",
    "    regiao_similar = min(distancias, key=distancias.get)\n",
    "    return regiao_similar, distancias\n",
    "\n",
    "# Imputando região para clientes desconhecidos\n",
    "clientes_tratado = clientes_df.copy()\n",
    "imputacoes_realizadas = []\n",
    "\n",
    "for idx, cliente in perfil_desconhecidos.iterrows():\n",
    "    cliente_id = cliente['client_id']\n",
    "    regiao_similar, distancias = encontrar_regiao_similar(cliente, perfil_por_regiao)\n",
    "    \n",
    "    # Atualizando a região\n",
    "    clientes_tratado.loc[clientes_tratado['client_id'] == cliente_id, 'region'] = regiao_similar\n",
    "    \n",
    "    imputacoes_realizadas.append({\n",
    "        'client_id': cliente_id,\n",
    "        'regiao_imputada': regiao_similar,\n",
    "        'consumo_medio': cliente['mean'],\n",
    "        'distancias': distancias\n",
    "    })\n",
    "\n",
    "for imp in imputacoes_realizadas:\n",
    "    print(f\"Cliente {imp['client_id']}: {imp['regiao_imputada']}\")"
   ]
  },
  {
   "cell_type": "markdown",
   "id": "83be6d12",
   "metadata": {},
   "source": [
    "## 5. Salvamento dos Dados Tratados"
   ]
  },
  {
   "cell_type": "code",
   "execution_count": 63,
   "id": "0a4ef6ef",
   "metadata": {},
   "outputs": [],
   "source": [
    "clima_final.to_csv('../data/clima_tratado.csv', index=False)\n",
    "clientes_tratado.to_csv('../data/clientes_tratado.csv', index=False)\n",
    "consumo_df.to_csv('../data/consumo_tratado.csv', index=False)"
   ]
  }
 ],
 "metadata": {
  "kernelspec": {
   "display_name": "venv (3.13.2)",
   "language": "python",
   "name": "python3"
  },
  "language_info": {
   "codemirror_mode": {
    "name": "ipython",
    "version": 3
   },
   "file_extension": ".py",
   "mimetype": "text/x-python",
   "name": "python",
   "nbconvert_exporter": "python",
   "pygments_lexer": "ipython3",
   "version": "3.13.2"
  }
 },
 "nbformat": 4,
 "nbformat_minor": 5
}
