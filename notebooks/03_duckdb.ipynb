{
 "cells": [
  {
   "cell_type": "markdown",
   "id": "2b3b8c9a",
   "metadata": {},
   "source": [
    "## 1. Configuração do DuckDB"
   ]
  },
  {
   "cell_type": "code",
   "execution_count": 12,
   "id": "ab910abe",
   "metadata": {},
   "outputs": [],
   "source": [
    "import duckdb\n",
    "import pandas as pd\n",
    "import numpy as np\n",
    "from datetime import datetime\n",
    "import os"
   ]
  },
  {
   "cell_type": "code",
   "execution_count": 13,
   "id": "ad109912",
   "metadata": {},
   "outputs": [],
   "source": [
    "conn = duckdb.connect(':memory:')"
   ]
  },
  {
   "cell_type": "markdown",
   "id": "2c508497",
   "metadata": {},
   "source": [
    "## 2. Carregamento dos Dados Tratados"
   ]
  },
  {
   "cell_type": "code",
   "execution_count": 14,
   "id": "970cd7f7",
   "metadata": {},
   "outputs": [],
   "source": [
    "# Carregando os dados tratados\n",
    "consumo_df = pd.read_csv('../data/consumo_tratado.csv')\n",
    "clima_df = pd.read_csv('../data/clima_tratado.csv')\n",
    "clientes_df = pd.read_csv('../data/clientes_tratado.csv')\n",
    "\n",
    "\n",
    "consumo_df['date'] = pd.to_datetime(consumo_df['date'])\n",
    "clima_df['date'] = pd.to_datetime(clima_df['date'])"
   ]
  },
  {
   "cell_type": "markdown",
   "id": "75c1abea",
   "metadata": {},
   "source": [
    "## 3. DuckDB"
   ]
  },
  {
   "cell_type": "code",
   "execution_count": 15,
   "id": "d489bfae",
   "metadata": {},
   "outputs": [
    {
     "data": {
      "text/plain": [
       "<duckdb.duckdb.DuckDBPyConnection at 0x24c2e089ef0>"
      ]
     },
     "execution_count": 15,
     "metadata": {},
     "output_type": "execute_result"
    }
   ],
   "source": [
    "# Criando tabela de clientes\n",
    "conn.execute(\"DROP TABLE IF EXISTS consumo\")\n",
    "conn.execute(\"DROP TABLE IF EXISTS clima\")  \n",
    "conn.execute(\"DROP TABLE IF EXISTS clientes\")\n",
    "\n",
    "# Tabela de Clientes\n",
    "conn.execute(\"\"\"\n",
    "    CREATE TABLE clientes (\n",
    "        client_id VARCHAR PRIMARY KEY,\n",
    "        region VARCHAR NOT NULL\n",
    "    );\n",
    "\"\"\")\n",
    "\n",
    "# Inserindo dados de clientes\n",
    "conn.execute(\"INSERT INTO clientes SELECT * FROM clientes_df\")\n",
    "\n",
    "# Tabela de Clima\n",
    "conn.execute(\"\"\"\n",
    "    CREATE TABLE clima (\n",
    "        region VARCHAR NOT NULL,\n",
    "        date DATE NOT NULL,\n",
    "        temperature DOUBLE NOT NULL,\n",
    "        humidity DOUBLE NOT NULL,\n",
    "        PRIMARY KEY (region, date)\n",
    "    );\n",
    "\"\"\")\n",
    "\n",
    "# Inserindo dados de clima\n",
    "conn.execute(\"INSERT INTO clima SELECT * FROM clima_df\")\n",
    "\n",
    "# Tabela de Consumo\n",
    "conn.execute(\"\"\"\n",
    "    CREATE TABLE consumo (\n",
    "        client_id VARCHAR NOT NULL,\n",
    "        date DATE NOT NULL,\n",
    "        consumption_kwh DOUBLE NOT NULL,\n",
    "        PRIMARY KEY (client_id, date),\n",
    "        FOREIGN KEY (client_id) REFERENCES clientes(client_id)\n",
    "    );\n",
    "\"\"\")\n",
    "\n",
    "# Inserindo dados de consumo\n",
    "conn.execute(\"INSERT INTO consumo SELECT * FROM consumo_df\")"
   ]
  },
  {
   "cell_type": "markdown",
   "id": "5369e63b",
   "metadata": {},
   "source": [
    "## 4. Validação das Tabelas"
   ]
  },
  {
   "cell_type": "code",
   "execution_count": 16,
   "id": "130eccf5",
   "metadata": {},
   "outputs": [
    {
     "name": "stdout",
     "output_type": "stream",
     "text": [
      "['clientes', 'clima', 'consumo']\n",
      "clientes: 100 registros\n",
      "clima: 900 registros\n",
      "consumo: 18,000 registros\n",
      "Clientes sem dados de consumo: 0\n",
      "Clientes sem dados climáticos: 0\n"
     ]
    }
   ],
   "source": [
    "# Validando as tabelas criadas\n",
    "\n",
    "# Listando tabelas\n",
    "tabelas = conn.execute(\"SHOW TABLES\").fetchall()\n",
    "print(f\"{[t[0] for t in tabelas]}\")\n",
    "\n",
    "# Contagem de registros\n",
    "for tabela in ['clientes', 'clima', 'consumo']:\n",
    "    count = conn.execute(f\"SELECT COUNT(*) FROM {tabela}\").fetchone()[0]\n",
    "    print(f\"{tabela}: {count:,} registros\")\n",
    "\n",
    "# Verificando integridade\n",
    "clientes_sem_consumo = conn.execute(\"\"\"\n",
    "    SELECT COUNT(*) FROM clientes c \n",
    "    WHERE NOT EXISTS (SELECT 1 FROM consumo co WHERE co.client_id = c.client_id)\n",
    "\"\"\").fetchone()[0]\n",
    "print(f\"Clientes sem dados de consumo: {clientes_sem_consumo}\")\n",
    "\n",
    "clientes_sem_clima = conn.execute(\"\"\"\n",
    "    SELECT COUNT(*) FROM clientes c \n",
    "    WHERE NOT EXISTS (SELECT 1 FROM clima cl WHERE cl.region = c.region)\n",
    "\"\"\").fetchone()[0]\n",
    "print(f\"Clientes sem dados climáticos: {clientes_sem_clima}\")"
   ]
  },
  {
   "cell_type": "markdown",
   "id": "9bc94dc3",
   "metadata": {},
   "source": [
    "## 5. Insights"
   ]
  },
  {
   "cell_type": "code",
   "execution_count": 17,
   "id": "a7e1d374",
   "metadata": {},
   "outputs": [
    {
     "name": "stdout",
     "output_type": "stream",
     "text": [
      "region  num_clientes  consumo_medio  desvio_padrao  consumo_min  consumo_max\n",
      " Oeste            17          15.96           3.44         3.81        27.35\n",
      " Leste            18          14.97           4.11         3.29        27.92\n",
      "Centro            17          14.96           3.28         3.65        25.17\n",
      "   Sul            15          14.69           3.68         4.29        26.14\n",
      " Norte            33          14.11           3.73         2.64        25.32\n"
     ]
    }
   ],
   "source": [
    "# Consultas para geração de insights\n",
    "\n",
    "#Consumo médio por região\n",
    "resultado = conn.execute(\"\"\"\n",
    "    SELECT \n",
    "        cl.region,\n",
    "        COUNT(DISTINCT c.client_id) as num_clientes,\n",
    "        ROUND(AVG(co.consumption_kwh), 2) as consumo_medio,\n",
    "        ROUND(STDDEV(co.consumption_kwh), 2) as desvio_padrao,\n",
    "        ROUND(MIN(co.consumption_kwh), 2) as consumo_min,\n",
    "        ROUND(MAX(co.consumption_kwh), 2) as consumo_max\n",
    "    FROM consumo co\n",
    "    JOIN clientes c ON co.client_id = c.client_id\n",
    "    JOIN clima cl ON c.region = cl.region AND co.date = cl.date\n",
    "    GROUP BY cl.region\n",
    "    ORDER BY consumo_medio DESC\n",
    "\"\"\").fetchdf()\n",
    "print(resultado.to_string(index=False))"
   ]
  },
  {
   "cell_type": "code",
   "execution_count": 18,
   "id": "7d78005b",
   "metadata": {},
   "outputs": [
    {
     "name": "stdout",
     "output_type": "stream",
     "text": [
      " mes  consumo_medio  temperatura_media  umidade_media  registros\n",
      "   1          14.82              25.07          59.79       3100\n",
      "   2          14.75              25.13          60.30       2800\n",
      "   3          14.81              25.18          60.08       3100\n",
      "   4          14.84              25.10          60.06       3000\n",
      "   5          14.77              25.02          59.94       3100\n",
      "   6          14.87              24.99          60.14       2900\n"
     ]
    }
   ],
   "source": [
    "# Correlação temporal - consumo vs temperatura\n",
    "resultado = conn.execute(\"\"\"\n",
    "    SELECT \n",
    "        EXTRACT(MONTH FROM co.date) as mes,\n",
    "        ROUND(AVG(co.consumption_kwh), 2) as consumo_medio,\n",
    "        ROUND(AVG(cl.temperature), 2) as temperatura_media,\n",
    "        ROUND(AVG(cl.humidity), 2) as umidade_media,\n",
    "        COUNT(*) as registros\n",
    "    FROM consumo co\n",
    "    JOIN clientes c ON co.client_id = c.client_id\n",
    "    JOIN clima cl ON c.region = cl.region AND co.date = cl.date\n",
    "    GROUP BY EXTRACT(MONTH FROM co.date)\n",
    "    ORDER BY mes\n",
    "\"\"\").fetchdf()\n",
    "print(resultado.to_string(index=False))"
   ]
  },
  {
   "cell_type": "code",
   "execution_count": 19,
   "id": "dd77f658",
   "metadata": {},
   "outputs": [
    {
     "name": "stdout",
     "output_type": "stream",
     "text": [
      "      date  consumo_medio_dia  temperatura_media  umidade_media  dia_semana\n",
      "2023-01-03              15.49              23.69          60.83           2\n",
      "2023-04-07              15.37              24.46          60.04           5\n",
      "2023-06-05              15.35              24.80          59.08           1\n",
      "2023-01-05              15.33              24.75          60.32           4\n",
      "2023-06-08              15.26              24.18          59.46           4\n",
      "2023-05-15              15.26              23.97          60.32           1\n",
      "2023-03-21              15.23              25.20          59.14           2\n",
      "2023-01-08              15.22              25.04          61.57           0\n",
      "2023-06-27              15.21              25.29          61.07           2\n",
      "2023-02-19              15.20              24.75          61.56           0\n"
     ]
    }
   ],
   "source": [
    "# Top 10 dias com maior consumo\n",
    "resultado = conn.execute(\"\"\"\n",
    "    SELECT \n",
    "        co.date,\n",
    "        ROUND(AVG(co.consumption_kwh), 2) as consumo_medio_dia,\n",
    "        ROUND(AVG(cl.temperature), 2) as temperatura_media,\n",
    "        ROUND(AVG(cl.humidity), 2) as umidade_media,\n",
    "        EXTRACT(DOW FROM co.date) as dia_semana\n",
    "    FROM consumo co\n",
    "    JOIN clientes c ON co.client_id = c.client_id\n",
    "    JOIN clima cl ON c.region = cl.region AND co.date = cl.date\n",
    "    GROUP BY co.date\n",
    "    ORDER BY consumo_medio_dia DESC\n",
    "    LIMIT 10\n",
    "\"\"\").fetchdf()\n",
    "print(resultado.to_string(index=False))"
   ]
  },
  {
   "cell_type": "markdown",
   "id": "9ee66d5b",
   "metadata": {},
   "source": [
    "## 6. Feature Engineering"
   ]
  },
  {
   "cell_type": "code",
   "execution_count": 20,
   "id": "7cce8cfa",
   "metadata": {},
   "outputs": [
    {
     "name": "stdout",
     "output_type": "stream",
     "text": [
      "client_id       date  target  temperature  humidity  sensacao_termica region  mes  dia  dia_da_semana  dia_do_ano  consumption_lag1  consumption_ma7\n",
      "    C0000 2023-01-02   16.63    27.090625 59.206250         28.140000  Norte    1    2              1           2             18.64        17.635000\n",
      "    C0000 2023-01-03   18.11    24.325000 59.365625         24.325000  Norte    1    3              2           3             16.63        17.793333\n",
      "    C0000 2023-01-04   18.25    23.987500 57.340625         23.987500  Norte    1    4              3           4             18.11        17.907500\n",
      "    C0000 2023-01-05   19.81    25.200000 59.921875         25.200000  Norte    1    5              4           5             18.25        18.288000\n",
      "    C0000 2023-01-06   15.87    24.896875 60.596875         24.896875  Norte    1    6              5           6             19.81        17.885000\n"
     ]
    }
   ],
   "source": [
    "# Criando view consolidada com features para modelagem\n",
    "# View principal com todas as features e a criação da sensação térmica\n",
    "conn.execute(\"\"\"\n",
    "    DROP VIEW IF EXISTS dataset_modelagem;\n",
    "    CREATE VIEW dataset_modelagem AS\n",
    "    SELECT \n",
    "        co.client_id,\n",
    "        co.date,\n",
    "        co.consumption_kwh as target,\n",
    "        cl.temperature,\n",
    "        cl.humidity,\n",
    "        -- Calculando sensação térmica (Heat Index) diretamente no SQL\n",
    "        CASE \n",
    "            WHEN ((cl.temperature * 9/5) + 32) < 80 THEN cl.temperature\n",
    "            ELSE ROUND(\n",
    "                ((-42.379 + \n",
    "                  2.04901523 * ((cl.temperature * 9/5) + 32) + \n",
    "                  10.14333127 * cl.humidity - \n",
    "                  0.22475541 * ((cl.temperature * 9/5) + 32) * cl.humidity - \n",
    "                  6.83783e-3 * POWER(((cl.temperature * 9/5) + 32), 2) - \n",
    "                  5.481717e-2 * POWER(cl.humidity, 2) + \n",
    "                  1.22874e-3 * POWER(((cl.temperature * 9/5) + 32), 2) * cl.humidity + \n",
    "                  8.5282e-4 * ((cl.temperature * 9/5) + 32) * POWER(cl.humidity, 2) - \n",
    "                  1.99e-6 * POWER(((cl.temperature * 9/5) + 32), 2) * POWER(cl.humidity, 2)\n",
    "                ) - 32) * 5/9, 2)\n",
    "        END as sensacao_termica,\n",
    "        c.region,\n",
    "        EXTRACT(YEAR FROM co.date) as ano,\n",
    "        EXTRACT(MONTH FROM co.date) as mes,\n",
    "        EXTRACT(DAY FROM co.date) as dia,\n",
    "        EXTRACT(DOW FROM co.date) as dia_da_semana,\n",
    "        EXTRACT(DOY FROM co.date) as dia_do_ano,\n",
    "        LAG(co.consumption_kwh, 1) OVER (PARTITION BY co.client_id ORDER BY co.date) as consumption_lag1,\n",
    "        LAG(co.consumption_kwh, 7) OVER (PARTITION BY co.client_id ORDER BY co.date) as consumption_lag7,\n",
    "        AVG(co.consumption_kwh) OVER (PARTITION BY co.client_id ORDER BY co.date ROWS BETWEEN 6 PRECEDING AND CURRENT ROW) as consumption_ma7\n",
    "    FROM consumo co\n",
    "    JOIN clientes c ON co.client_id = c.client_id\n",
    "    JOIN clima cl ON c.region = cl.region AND co.date = cl.date\n",
    "    ORDER BY co.client_id, co.date\n",
    "\"\"\")\n",
    "\n",
    "# Verificando a view\n",
    "resultado = conn.execute(\"SELECT COUNT(*) as total_records FROM dataset_modelagem\").fetchone()\n",
    "\n",
    "# Mostrando amostra das features\n",
    "amostra = conn.execute(\"\"\"\n",
    "    SELECT \n",
    "        client_id, date, target, temperature, humidity, sensacao_termica, region,\n",
    "        mes, dia, dia_da_semana, dia_do_ano, consumption_lag1, consumption_ma7\n",
    "    FROM dataset_modelagem \n",
    "    WHERE consumption_lag1 IS NOT NULL\n",
    "    LIMIT 5\n",
    "\"\"\").fetchdf()\n",
    "print(amostra.to_string(index=False))"
   ]
  },
  {
   "cell_type": "code",
   "execution_count": 21,
   "id": "0b9ab3c5",
   "metadata": {},
   "outputs": [
    {
     "name": "stdout",
     "output_type": "stream",
     "text": [
      "region  corr_temp  corr_humidity  corr_sensacao  registros\n",
      " Norte    -0.0387         0.0075        -0.0385       5907\n",
      " Leste    -0.0571         0.0072        -0.0577       3222\n",
      "Centro    -0.0614         0.0076        -0.0599       3043\n",
      " Oeste    -0.0640        -0.0089        -0.0648       3043\n",
      "   Sul    -0.0762        -0.0088        -0.0749       2685\n",
      " corr_temperatura  corr_umidade  corr_sensacao_termica\n",
      "          -0.0452       -0.0008                -0.0427\n",
      " total_registros  registros_com_lag  consumo_medio  consumo_desvio  temp_media  umidade_media  sensacao_media  sensacao_desvio\n",
      "           18000              17900          14.81            3.73       25.08          60.05           25.19             1.35\n"
     ]
    }
   ],
   "source": [
    "# Análise de correlações e estatísticas\n",
    "# Correlação entre consumo e variáveis climáticas por região\n",
    "correlacao = conn.execute(\"\"\"\n",
    "    SELECT \n",
    "        region,\n",
    "        ROUND(CORR(target, temperature), 4) as corr_temp,\n",
    "        ROUND(CORR(target, humidity), 4) as corr_humidity,\n",
    "        ROUND(CORR(target, sensacao_termica), 4) as corr_sensacao,\n",
    "        COUNT(*) as registros\n",
    "    FROM dataset_modelagem\n",
    "    WHERE consumption_lag1 IS NOT NULL\n",
    "    GROUP BY region\n",
    "    ORDER BY corr_sensacao DESC\n",
    "\"\"\").fetchdf()\n",
    "print(correlacao.to_string(index=False))\n",
    "\n",
    "# Correlação geral\n",
    "corr_geral = conn.execute(\"\"\"\n",
    "    SELECT \n",
    "        ROUND(CORR(target, temperature), 4) as corr_temperatura,\n",
    "        ROUND(CORR(target, humidity), 4) as corr_umidade,\n",
    "        ROUND(CORR(target, sensacao_termica), 4) as corr_sensacao_termica\n",
    "    FROM dataset_modelagem\n",
    "    WHERE consumption_lag1 IS NOT NULL\n",
    "\"\"\").fetchdf()\n",
    "print(corr_geral.to_string(index=False))\n",
    "\n",
    "# Estatísticas das features criadas\n",
    "estatisticas = conn.execute(\"\"\"\n",
    "    SELECT \n",
    "        COUNT(*) as total_registros,\n",
    "        COUNT(consumption_lag1) as registros_com_lag,\n",
    "        ROUND(AVG(target), 2) as consumo_medio,\n",
    "        ROUND(STDDEV(target), 2) as consumo_desvio,\n",
    "        ROUND(AVG(temperature), 2) as temp_media,\n",
    "        ROUND(AVG(humidity), 2) as umidade_media,\n",
    "        ROUND(AVG(sensacao_termica), 2) as sensacao_media,\n",
    "        ROUND(STDDEV(sensacao_termica), 2) as sensacao_desvio\n",
    "    FROM dataset_modelagem\n",
    "\"\"\").fetchdf()\n",
    "print(estatisticas.to_string(index=False))\n",
    "\n",
    "# Exportando dataset final para CSV\n",
    "dataset_final = conn.execute(\"\"\"\n",
    "    SELECT * FROM dataset_modelagem \n",
    "    WHERE consumption_lag1 IS NOT NULL\n",
    "\"\"\").fetchdf()\n",
    "\n",
    "dataset_final.to_csv('../data/dataset_modelagem.csv', index=False)"
   ]
  },
  {
   "cell_type": "code",
   "execution_count": 22,
   "id": "ba36c798",
   "metadata": {},
   "outputs": [],
   "source": [
    "# Fechando conexão\n",
    "conn.close()"
   ]
  }
 ],
 "metadata": {
  "kernelspec": {
   "display_name": "venv (3.13.2)",
   "language": "python",
   "name": "python3"
  },
  "language_info": {
   "codemirror_mode": {
    "name": "ipython",
    "version": 3
   },
   "file_extension": ".py",
   "mimetype": "text/x-python",
   "name": "python",
   "nbconvert_exporter": "python",
   "pygments_lexer": "ipython3",
   "version": "3.13.2"
  }
 },
 "nbformat": 4,
 "nbformat_minor": 5
}
